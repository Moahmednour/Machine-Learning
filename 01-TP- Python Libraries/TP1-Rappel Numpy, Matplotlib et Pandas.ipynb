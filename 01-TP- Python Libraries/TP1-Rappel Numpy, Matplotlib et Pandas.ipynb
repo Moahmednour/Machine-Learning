{
 "cells": [
  {
   "cell_type": "markdown",
   "metadata": {},
   "source": [
    "# Numpy\n",
    "---"
   ]
  },
  {
   "cell_type": "markdown",
   "metadata": {},
   "source": [
    "## Statistiques sur le vent\n",
    "\n",
    "### Utilisation des méthodes sur les tableaux numpy sur différents axes, indexation.\n",
    "\n",
    "**Effectuer toutes ces opérations sans utiliser une boucle for ou toute autre construction en boucle.**"
   ]
  },
  {
   "cell_type": "markdown",
   "metadata": {},
   "source": [
    "1. Les données de 'wind.data' ont le format suivant: :\n",
    "\n",
    "        61 1 1 15.04 14.96 13.17 9.29 13.96 9.87 13.67 10.25 10.83 12.58 18.50 15.04\n",
    "        61 1 2 14.71 16.88 10.83 6.50 12.62 7.67 11.50 10.04 9.79 9.67 17.54 13.83\n",
    "        61 1 3 18.50 16.88 12.33 10.13 11.17 6.17 11.25 8.04 8.50 7.67 12.75 12.71\n",
    "\n",
    "    Les trois premières colonnes sont l'année, le mois et le jour. Les 12 colonnes restantes sont les vitesses moyennes du vent en nœuds en Irlande ce jour-là.\n",
    "\n",
    "   Utilisez la fonction 'loadtxt' de numpy pour lire les données dans un tableau."
   ]
  },
  {
   "cell_type": "code",
   "execution_count": 2,
   "metadata": {},
   "outputs": [],
   "source": [
    "import numpy as np\n",
    "import matplotlib.pyplot as plt\n",
    "import matplotlib as mpl\n",
    "import pandas as pd"
   ]
  },
  {
   "cell_type": "code",
   "execution_count": 3,
   "metadata": {},
   "outputs": [
    {
     "data": {
      "text/plain": [
       "array([[61.  ,  1.  ,  1.  , ..., 12.58, 18.5 , 15.04],\n",
       "       [61.  ,  1.  ,  2.  , ...,  9.67, 17.54, 13.83],\n",
       "       [61.  ,  1.  ,  3.  , ...,  7.67, 12.75, 12.71],\n",
       "       ...,\n",
       "       [78.  , 12.  , 29.  , ..., 16.42, 18.88, 29.58],\n",
       "       [78.  , 12.  , 30.  , ..., 12.12, 14.67, 28.79],\n",
       "       [78.  , 12.  , 31.  , ..., 11.38, 12.08, 22.08]])"
      ]
     },
     "execution_count": 3,
     "metadata": {},
     "output_type": "execute_result"
    }
   ],
   "source": [
    "data = np.loadtxt('wind.data')\n",
    "data"
   ]
  },
  {
   "cell_type": "markdown",
   "metadata": {},
   "source": [
    "2. Calculez les vitesses de vent minimales, maximales et moyennes ainsi que l'écart type de l'ensemble des données.\n",
    "        "
   ]
  },
  {
   "cell_type": "code",
   "execution_count": 4,
   "metadata": {},
   "outputs": [
    {
     "data": {
      "text/plain": [
       "(0.0, 42.54, 10.22837377040868, 5.603840181095793)"
      ]
     },
     "execution_count": 4,
     "metadata": {},
     "output_type": "execute_result"
    }
   ],
   "source": [
    "\n",
    "#min_speed = np.min(data)\n",
    "#max_speed = np.max(data)\n",
    "#mean_speed = np.mean(data)\n",
    "#std_speed = np.std(data)\n",
    "\n",
    "wind_speeds =data[:, 3:] \n",
    "min_speed, max_speed, mean_speed, std_speed = np.min(wind_speeds), np.max(wind_speeds), np.mean(wind_speeds), np.std(wind_speeds)\n",
    "\n",
    "#print(\"Vitesse minimale du vent :\", min_speed)\n",
    "#print(\"Vitesse maximale du vent :\", max_speed)\n",
    "#print(\"Vitesse moyenne du vent :\", mean_speed)\n",
    "#print(\"Écart type des vitesses du vent :\", std_speed)\n",
    "\n",
    "min_speed, max_speed, mean_speed, std_speed "
   ]
  },
  {
   "cell_type": "markdown",
   "metadata": {},
   "source": [
    "**Résultat attendu :** vitesse min:0.0, vitesse max:42.54, vitesse moyenne:10.22837377040868, écart-type:5.603840181095793"
   ]
  },
  {
   "cell_type": "markdown",
   "metadata": {},
   "source": [
    "3. Calculer les mêmes mesures par emplacement (station météo)."
   ]
  },
  {
   "cell_type": "code",
   "execution_count": 5,
   "metadata": {},
   "outputs": [
    {
     "name": "stdout",
     "output_type": "stream",
     "text": [
      "vitesse min : [0.67 0.21 1.5  0.   0.13 0.   0.   0.   0.   0.04 0.13 0.67]\n",
      "vitesse max : [35.8  33.37 33.84 28.46 37.54 26.16 30.37 31.08 25.88 28.21 42.38 42.54]\n",
      "vitesse moyenne : [12.36371463 10.64644813 11.66010344  6.30627472 10.45688013  7.09225434\n",
      "  9.7968345   8.49442044  8.49581838  8.70726803 13.121007   15.59946152]\n",
      "écart-type : [5.61918301 5.26820081 5.00738377 3.60513309 4.93536333 3.96838126\n",
      " 4.97689374 4.49865783 4.16746101 4.50327222 5.83459319 6.69734719]\n"
     ]
    }
   ],
   "source": [
    "min_by_station = np.min(wind_speeds, axis=0)\n",
    "max_by_station = np.max(wind_speeds, axis=0)\n",
    "mean_by_station = np.mean(wind_speeds, axis=0)\n",
    "std_by_station = np.std(wind_speeds, axis=0)\n",
    "\n",
    "print(\"vitesse min :\",min_by_station)\n",
    "print(\"vitesse max :\",max_by_station)\n",
    "print(\"vitesse moyenne :\",mean_by_station)\n",
    "print(\"écart-type :\",std_by_station)\n"
   ]
  },
  {
   "cell_type": "markdown",
   "metadata": {},
   "source": [
    "**Résultat attendu :** \n",
    "\n",
    "vitesse min:[0.67 0.21 1.5  0.   0.13 0.   0.   0.   0.   0.04 0.13 0.67],\n",
    "\n",
    " vitesse max:[35.8  33.37 33.84 28.46 37.54 26.16 30.37 31.08 25.88 28.21 42.38 42.54],\n",
    "\n",
    " vitesse moyenne:[12.36371463 10.64644813 11.66010344  6.30627472 10.45688013  7.09225434\n",
    "  9.7968345   8.49442044  8.49581838  8.70726803 13.121007   15.59946152],\n",
    "\n",
    " écart-type:[5.61918301 5.26820081 5.00738377 3.60513309 4.93536333 3.96838126\n",
    " 4.97689374 4.49865783 4.16746101 4.50327222 5.83459319 6.69734719]"
   ]
  },
  {
   "cell_type": "markdown",
   "metadata": {},
   "source": [
    "4. Trouvez l'endroit où la vitesse du vent est la plus élevée chaque jour."
   ]
  },
  {
   "cell_type": "code",
   "execution_count": 11,
   "metadata": {},
   "outputs": [
    {
     "name": "stdout",
     "output_type": "stream",
     "text": [
      "[10 10  0 ... 11 11  2]\n"
     ]
    }
   ],
   "source": [
    "max_speed_indices = np.argmax(wind_speeds, axis=1)  \n",
    "\n",
    "print(max_speed_indices)"
   ]
  },
  {
   "cell_type": "markdown",
   "metadata": {},
   "source": [
    "**Résultat attendu :** [10 10  0 ... 11 11  2]"
   ]
  },
  {
   "cell_type": "markdown",
   "metadata": {},
   "source": [
    "# Matplotlib\n",
    "---"
   ]
  },
  {
   "attachments": {
    "image-2.png": {
     "image/png": "[encoded data removed]"
    }
   },
   "cell_type": "markdown",
   "metadata": {},
   "source": [
    "1. Tracer les droites d'équations $y=x+2$ et $y=4x-3$\n",
    "2. Trouver l'intersection et marquer la avec un point noir\n",
    "3. Ajouter une annotation vers le point contenant 'A(x,y)' où x et y sont les coordonnées trouvées dans l'étape précédente\n",
    "\n",
    "![image-2.png](attachment:image-2.png)"
   ]
  },
  {
   "cell_type": "code",
   "execution_count": 13,
   "metadata": {},
   "outputs": [
    {
     "data": {
      "image/png": "[encoded data removed]",
      "text/plain": [
       "<Figure size 640x480 with 1 Axes>"
      ]
     },
     "metadata": {},
     "output_type": "display_data"
    }
   ],
   "source": [
    "\n",
    "x = np.linspace(-10, 10, 400)\n",
    "y1 = x + 2\n",
    "y2 = 4*x - 3\n",
    "\n",
    "#{# f(y) #}\n",
    "plt.plot(x, y1, label='y=x+2')\n",
    "plt.plot(x, y2, label='y=4x-3')\n",
    "\n",
    "x_intersect = (3 + 2) / (4 - 1)\n",
    "y_intersect = x_intersect + 2\n",
    "\n",
    "plt.plot(x_intersect, y_intersect, 'ko')  \n",
    "\n",
    "plt.annotate(f'A({x_intersect:.2f},{y_intersect:.2f})', (x_intersect, y_intersect), textcoords=\"offset points\", xytext=(-10, -10), ha='center')\n",
    "\n",
    "plt.legend()\n",
    "plt.show()"
   ]
  },
  {
   "cell_type": "markdown",
   "metadata": {},
   "source": [
    "# Pandas\n",
    "---\n",
    "\n",
    "Dans cet exercice, c'est la base de données exmeple HR livrée avec Oracle XE. Nous utilisons le résultant de l'exportation des tables Employees ou __emp__ et Departments ou __dept__)\n",
    "\n",
    "**Travail demandé**\n",
    "- Examiner la structure des fichiers CSV `employees.csv` et `departments.csv`\n",
    "- Traduire les requêtes SQL fournies en utilisant la bibliothèque Pandas"
   ]
  },
  {
   "cell_type": "markdown",
   "metadata": {},
   "source": [
    "## Ouvrir les fichiers CSV et afficher leurs structures"
   ]
  },
  {
   "cell_type": "code",
   "execution_count": 14,
   "metadata": {},
   "outputs": [],
   "source": [
    "    employees_df = pd.read_csv('employees.csv')\n",
    "    departments_df = pd.read_csv('departments.csv')"
   ]
  },
  {
   "cell_type": "code",
   "execution_count": 15,
   "metadata": {},
   "outputs": [
    {
     "name": "stdout",
     "output_type": "stream",
     "text": [
      "<class 'pandas.core.frame.DataFrame'>\n",
      "RangeIndex: 107 entries, 0 to 106\n",
      "Data columns (total 11 columns):\n",
      " #   Column          Non-Null Count  Dtype  \n",
      "---  ------          --------------  -----  \n",
      " 0   employee_id     107 non-null    int64  \n",
      " 1   first_name      107 non-null    object \n",
      " 2   last_name       107 non-null    object \n",
      " 3   email           107 non-null    object \n",
      " 4   phone_number    107 non-null    object \n",
      " 5   hire_date       107 non-null    object \n",
      " 6   job_id          107 non-null    object \n",
      " 7   salary          107 non-null    float64\n",
      " 8   commission_pct  35 non-null     float64\n",
      " 9   manager_id      106 non-null    float64\n",
      " 10  department_id   106 non-null    float64\n",
      "dtypes: float64(4), int64(1), object(6)\n",
      "memory usage: 9.3+ KB\n",
      "None\n"
     ]
    }
   ],
   "source": [
    "print(employees_df.info())"
   ]
  },
  {
   "cell_type": "code",
   "execution_count": 16,
   "metadata": {},
   "outputs": [
    {
     "name": "stdout",
     "output_type": "stream",
     "text": [
      "<class 'pandas.core.frame.DataFrame'>\n",
      "RangeIndex: 29 entries, 0 to 28\n",
      "Data columns (total 4 columns):\n",
      " #   Column           Non-Null Count  Dtype  \n",
      "---  ------           --------------  -----  \n",
      " 0   department_id    29 non-null     int64  \n",
      " 1   department_name  29 non-null     object \n",
      " 2   manager_id       11 non-null     float64\n",
      " 3   location_id      27 non-null     float64\n",
      "dtypes: float64(2), int64(1), object(1)\n",
      "memory usage: 1.0+ KB\n",
      "None\n"
     ]
    }
   ],
   "source": [
    "print(departments_df.info())"
   ]
  },
  {
   "cell_type": "markdown",
   "metadata": {},
   "source": [
    "    ## Requête 1\n",
    "    ```SQL\n",
    "    SELECT *\n",
    "    FROM emp\n",
    "    GROUP BY department_id\n",
    "```"
   ]
  },
  {
   "cell_type": "code",
   "execution_count": 17,
   "metadata": {},
   "outputs": [
    {
     "name": "stdout",
     "output_type": "stream",
     "text": [
      "    department_id\n",
      "0            10.0\n",
      "1            20.0\n",
      "2            30.0\n",
      "3            40.0\n",
      "4            50.0\n",
      "5            60.0\n",
      "6            70.0\n",
      "7            80.0\n",
      "8            90.0\n",
      "9           100.0\n",
      "10          110.0\n"
     ]
    }
   ],
   "source": [
    "result_df = employees_df.groupby('department_id').first().reset_index()\n",
    "result_df = result_df[['department_id']]\n",
    "\n",
    "print(result_df)\n"
   ]
  },
  {
   "cell_type": "markdown",
   "metadata": {},
   "source": [
    "## Requête 2\n",
    "\n",
    "```SQL\n",
    "SELECT first_name, last_name, department_name\n",
    "FROM emp, dept\n",
    "WHERE emp.department_id = dept.department_id\n",
    "```"
   ]
  },
  {
   "cell_type": "code",
   "execution_count": 18,
   "metadata": {},
   "outputs": [
    {
     "data": {
      "text/html": [
       "<div>\n",
       "<style scoped>\n",
       "    .dataframe tbody tr th:only-of-type {\n",
       "        vertical-align: middle;\n",
       "    }\n",
       "\n",
       "    .dataframe tbody tr th {\n",
       "        vertical-align: top;\n",
       "    }\n",
       "\n",
       "    .dataframe thead th {\n",
       "        text-align: right;\n",
       "    }\n",
       "</style>\n",
       "<table border=\"1\" class=\"dataframe\">\n",
       "  <thead>\n",
       "    <tr style=\"text-align: right;\">\n",
       "      <th></th>\n",
       "      <th>first_name</th>\n",
       "      <th>last_name</th>\n",
       "      <th>department_name</th>\n",
       "    </tr>\n",
       "  </thead>\n",
       "  <tbody>\n",
       "    <tr>\n",
       "      <th>0</th>\n",
       "      <td>Steven</td>\n",
       "      <td>King</td>\n",
       "      <td>Executive</td>\n",
       "    </tr>\n",
       "    <tr>\n",
       "      <th>1</th>\n",
       "      <td>Neena</td>\n",
       "      <td>Kochhar</td>\n",
       "      <td>Executive</td>\n",
       "    </tr>\n",
       "    <tr>\n",
       "      <th>2</th>\n",
       "      <td>Lex</td>\n",
       "      <td>De Haan</td>\n",
       "      <td>Executive</td>\n",
       "    </tr>\n",
       "    <tr>\n",
       "      <th>3</th>\n",
       "      <td>Alexander</td>\n",
       "      <td>Hunold</td>\n",
       "      <td>IT</td>\n",
       "    </tr>\n",
       "    <tr>\n",
       "      <th>4</th>\n",
       "      <td>Bruce</td>\n",
       "      <td>Ernst</td>\n",
       "      <td>IT</td>\n",
       "    </tr>\n",
       "    <tr>\n",
       "      <th>...</th>\n",
       "      <td>...</td>\n",
       "      <td>...</td>\n",
       "      <td>...</td>\n",
       "    </tr>\n",
       "    <tr>\n",
       "      <th>101</th>\n",
       "      <td>Pat</td>\n",
       "      <td>Fay</td>\n",
       "      <td>Marketing</td>\n",
       "    </tr>\n",
       "    <tr>\n",
       "      <th>102</th>\n",
       "      <td>Susan</td>\n",
       "      <td>Mavris</td>\n",
       "      <td>Human Resources</td>\n",
       "    </tr>\n",
       "    <tr>\n",
       "      <th>103</th>\n",
       "      <td>Hermann</td>\n",
       "      <td>Baer</td>\n",
       "      <td>Public Relations</td>\n",
       "    </tr>\n",
       "    <tr>\n",
       "      <th>104</th>\n",
       "      <td>Shelley</td>\n",
       "      <td>Higgins</td>\n",
       "      <td>Accounting</td>\n",
       "    </tr>\n",
       "    <tr>\n",
       "      <th>105</th>\n",
       "      <td>William</td>\n",
       "      <td>Gietz</td>\n",
       "      <td>Accounting</td>\n",
       "    </tr>\n",
       "  </tbody>\n",
       "</table>\n",
       "<p>106 rows × 3 columns</p>\n",
       "</div>"
      ],
      "text/plain": [
       "    first_name last_name   department_name\n",
       "0       Steven      King         Executive\n",
       "1        Neena   Kochhar         Executive\n",
       "2          Lex   De Haan         Executive\n",
       "3    Alexander    Hunold                IT\n",
       "4        Bruce     Ernst                IT\n",
       "..         ...       ...               ...\n",
       "101        Pat       Fay         Marketing\n",
       "102      Susan    Mavris   Human Resources\n",
       "103    Hermann      Baer  Public Relations\n",
       "104    Shelley   Higgins        Accounting\n",
       "105    William     Gietz        Accounting\n",
       "\n",
       "[106 rows x 3 columns]"
      ]
     },
     "execution_count": 18,
     "metadata": {},
     "output_type": "execute_result"
    }
   ],
   "source": [
    "result_df = pd.merge(employees_df, departments_df[['department_id', 'department_name']], on='department_id')\n",
    "result_df = result_df[['first_name', 'last_name', 'department_name']]\n",
    "\n",
    "result_df\n"
   ]
  },
  {
   "cell_type": "markdown",
   "metadata": {},
   "source": [
    "## Requête 3\n",
    "```SQL\n",
    "SELECT first_name, last_name, department_name\n",
    "FROM emp LEFT OUTER JOIN dept ON emp.department_id = dept.department_id\n",
    "```"
   ]
  },
  {
   "cell_type": "code",
   "execution_count": 19,
   "metadata": {},
   "outputs": [
    {
     "data": {
      "text/html": [
       "<div>\n",
       "<style scoped>\n",
       "    .dataframe tbody tr th:only-of-type {\n",
       "        vertical-align: middle;\n",
       "    }\n",
       "\n",
       "    .dataframe tbody tr th {\n",
       "        vertical-align: top;\n",
       "    }\n",
       "\n",
       "    .dataframe thead th {\n",
       "        text-align: right;\n",
       "    }\n",
       "</style>\n",
       "<table border=\"1\" class=\"dataframe\">\n",
       "  <thead>\n",
       "    <tr style=\"text-align: right;\">\n",
       "      <th></th>\n",
       "      <th>first_name</th>\n",
       "      <th>last_name</th>\n",
       "      <th>department_name</th>\n",
       "    </tr>\n",
       "  </thead>\n",
       "  <tbody>\n",
       "    <tr>\n",
       "      <th>0</th>\n",
       "      <td>Steven</td>\n",
       "      <td>King</td>\n",
       "      <td>Executive</td>\n",
       "    </tr>\n",
       "    <tr>\n",
       "      <th>1</th>\n",
       "      <td>Neena</td>\n",
       "      <td>Kochhar</td>\n",
       "      <td>Executive</td>\n",
       "    </tr>\n",
       "    <tr>\n",
       "      <th>2</th>\n",
       "      <td>Lex</td>\n",
       "      <td>De Haan</td>\n",
       "      <td>Executive</td>\n",
       "    </tr>\n",
       "    <tr>\n",
       "      <th>3</th>\n",
       "      <td>Alexander</td>\n",
       "      <td>Hunold</td>\n",
       "      <td>IT</td>\n",
       "    </tr>\n",
       "    <tr>\n",
       "      <th>4</th>\n",
       "      <td>Bruce</td>\n",
       "      <td>Ernst</td>\n",
       "      <td>IT</td>\n",
       "    </tr>\n",
       "    <tr>\n",
       "      <th>...</th>\n",
       "      <td>...</td>\n",
       "      <td>...</td>\n",
       "      <td>...</td>\n",
       "    </tr>\n",
       "    <tr>\n",
       "      <th>102</th>\n",
       "      <td>Pat</td>\n",
       "      <td>Fay</td>\n",
       "      <td>Marketing</td>\n",
       "    </tr>\n",
       "    <tr>\n",
       "      <th>103</th>\n",
       "      <td>Susan</td>\n",
       "      <td>Mavris</td>\n",
       "      <td>Human Resources</td>\n",
       "    </tr>\n",
       "    <tr>\n",
       "      <th>104</th>\n",
       "      <td>Hermann</td>\n",
       "      <td>Baer</td>\n",
       "      <td>Public Relations</td>\n",
       "    </tr>\n",
       "    <tr>\n",
       "      <th>105</th>\n",
       "      <td>Shelley</td>\n",
       "      <td>Higgins</td>\n",
       "      <td>Accounting</td>\n",
       "    </tr>\n",
       "    <tr>\n",
       "      <th>106</th>\n",
       "      <td>William</td>\n",
       "      <td>Gietz</td>\n",
       "      <td>Accounting</td>\n",
       "    </tr>\n",
       "  </tbody>\n",
       "</table>\n",
       "<p>107 rows × 3 columns</p>\n",
       "</div>"
      ],
      "text/plain": [
       "    first_name last_name   department_name\n",
       "0       Steven      King         Executive\n",
       "1        Neena   Kochhar         Executive\n",
       "2          Lex   De Haan         Executive\n",
       "3    Alexander    Hunold                IT\n",
       "4        Bruce     Ernst                IT\n",
       "..         ...       ...               ...\n",
       "102        Pat       Fay         Marketing\n",
       "103      Susan    Mavris   Human Resources\n",
       "104    Hermann      Baer  Public Relations\n",
       "105    Shelley   Higgins        Accounting\n",
       "106    William     Gietz        Accounting\n",
       "\n",
       "[107 rows x 3 columns]"
      ]
     },
     "execution_count": 19,
     "metadata": {},
     "output_type": "execute_result"
    }
   ],
   "source": [
    "result_df = pd.merge(employees_df, departments_df[['department_id', 'department_name']], on='department_id', how='left')\n",
    "result_df = result_df[['first_name', 'last_name', 'department_name']]\n",
    "\n",
    "result_df\n"
   ]
  },
  {
   "cell_type": "markdown",
   "metadata": {},
   "source": [
    "## Requête 4\n",
    "```SQL\n",
    "SELECT e.first_name , e.last_name, c.first_name, c.last_name\n",
    "FROM emp e, emp c\n",
    "WHERE e.manager_id = c.employee_id\n",
    "```"
   ]
  },
  {
   "cell_type": "code",
   "execution_count": 20,
   "metadata": {},
   "outputs": [
    {
     "data": {
      "text/html": [
       "<div>\n",
       "<style scoped>\n",
       "    .dataframe tbody tr th:only-of-type {\n",
       "        vertical-align: middle;\n",
       "    }\n",
       "\n",
       "    .dataframe tbody tr th {\n",
       "        vertical-align: top;\n",
       "    }\n",
       "\n",
       "    .dataframe thead th {\n",
       "        text-align: right;\n",
       "    }\n",
       "</style>\n",
       "<table border=\"1\" class=\"dataframe\">\n",
       "  <thead>\n",
       "    <tr style=\"text-align: right;\">\n",
       "      <th></th>\n",
       "      <th>first_name_employee</th>\n",
       "      <th>last_name_employee</th>\n",
       "      <th>first_name_manager</th>\n",
       "      <th>last_name_manager</th>\n",
       "    </tr>\n",
       "  </thead>\n",
       "  <tbody>\n",
       "    <tr>\n",
       "      <th>0</th>\n",
       "      <td>Neena</td>\n",
       "      <td>Kochhar</td>\n",
       "      <td>Steven</td>\n",
       "      <td>King</td>\n",
       "    </tr>\n",
       "    <tr>\n",
       "      <th>1</th>\n",
       "      <td>Lex</td>\n",
       "      <td>De Haan</td>\n",
       "      <td>Steven</td>\n",
       "      <td>King</td>\n",
       "    </tr>\n",
       "    <tr>\n",
       "      <th>2</th>\n",
       "      <td>Den</td>\n",
       "      <td>Raphaely</td>\n",
       "      <td>Steven</td>\n",
       "      <td>King</td>\n",
       "    </tr>\n",
       "    <tr>\n",
       "      <th>3</th>\n",
       "      <td>Matthew</td>\n",
       "      <td>Weiss</td>\n",
       "      <td>Steven</td>\n",
       "      <td>King</td>\n",
       "    </tr>\n",
       "    <tr>\n",
       "      <th>4</th>\n",
       "      <td>Adam</td>\n",
       "      <td>Fripp</td>\n",
       "      <td>Steven</td>\n",
       "      <td>King</td>\n",
       "    </tr>\n",
       "    <tr>\n",
       "      <th>...</th>\n",
       "      <td>...</td>\n",
       "      <td>...</td>\n",
       "      <td>...</td>\n",
       "      <td>...</td>\n",
       "    </tr>\n",
       "    <tr>\n",
       "      <th>101</th>\n",
       "      <td>Jack</td>\n",
       "      <td>Livingston</td>\n",
       "      <td>Eleni</td>\n",
       "      <td>Zlotkey</td>\n",
       "    </tr>\n",
       "    <tr>\n",
       "      <th>102</th>\n",
       "      <td>Kimberely</td>\n",
       "      <td>Grant</td>\n",
       "      <td>Eleni</td>\n",
       "      <td>Zlotkey</td>\n",
       "    </tr>\n",
       "    <tr>\n",
       "      <th>103</th>\n",
       "      <td>Charles</td>\n",
       "      <td>Johnson</td>\n",
       "      <td>Eleni</td>\n",
       "      <td>Zlotkey</td>\n",
       "    </tr>\n",
       "    <tr>\n",
       "      <th>104</th>\n",
       "      <td>Pat</td>\n",
       "      <td>Fay</td>\n",
       "      <td>Michael</td>\n",
       "      <td>Hartstein</td>\n",
       "    </tr>\n",
       "    <tr>\n",
       "      <th>105</th>\n",
       "      <td>William</td>\n",
       "      <td>Gietz</td>\n",
       "      <td>Shelley</td>\n",
       "      <td>Higgins</td>\n",
       "    </tr>\n",
       "  </tbody>\n",
       "</table>\n",
       "<p>106 rows × 4 columns</p>\n",
       "</div>"
      ],
      "text/plain": [
       "    first_name_employee last_name_employee first_name_manager  \\\n",
       "0                 Neena            Kochhar             Steven   \n",
       "1                   Lex            De Haan             Steven   \n",
       "2                   Den           Raphaely             Steven   \n",
       "3               Matthew              Weiss             Steven   \n",
       "4                  Adam              Fripp             Steven   \n",
       "..                  ...                ...                ...   \n",
       "101                Jack         Livingston              Eleni   \n",
       "102           Kimberely              Grant              Eleni   \n",
       "103             Charles            Johnson              Eleni   \n",
       "104                 Pat                Fay            Michael   \n",
       "105             William              Gietz            Shelley   \n",
       "\n",
       "    last_name_manager  \n",
       "0                King  \n",
       "1                King  \n",
       "2                King  \n",
       "3                King  \n",
       "4                King  \n",
       "..                ...  \n",
       "101           Zlotkey  \n",
       "102           Zlotkey  \n",
       "103           Zlotkey  \n",
       "104         Hartstein  \n",
       "105           Higgins  \n",
       "\n",
       "[106 rows x 4 columns]"
      ]
     },
     "execution_count": 20,
     "metadata": {},
     "output_type": "execute_result"
    }
   ],
   "source": [
    "result_df = pd.merge(employees_df, employees_df, left_on='manager_id', right_on='employee_id', suffixes=('_employee', '_manager'))\n",
    "result_df = result_df[['first_name_employee', 'last_name_employee', 'first_name_manager', 'last_name_manager']]\n",
    "result_df\n"
   ]
  },
  {
   "cell_type": "markdown",
   "metadata": {},
   "source": [
    "## Requête 5\n",
    "```SQL\n",
    "SELECT department_id, count(employee_id)\n",
    "FROM emp\n",
    "GROUP BY department_id\n",
    "```"
   ]
  },
  {
   "cell_type": "code",
   "execution_count": 21,
   "metadata": {
    "scrolled": true
   },
   "outputs": [
    {
     "data": {
      "text/html": [
       "<div>\n",
       "<style scoped>\n",
       "    .dataframe tbody tr th:only-of-type {\n",
       "        vertical-align: middle;\n",
       "    }\n",
       "\n",
       "    .dataframe tbody tr th {\n",
       "        vertical-align: top;\n",
       "    }\n",
       "\n",
       "    .dataframe thead th {\n",
       "        text-align: right;\n",
       "    }\n",
       "</style>\n",
       "<table border=\"1\" class=\"dataframe\">\n",
       "  <thead>\n",
       "    <tr style=\"text-align: right;\">\n",
       "      <th></th>\n",
       "      <th>department_id</th>\n",
       "      <th>employee_count</th>\n",
       "    </tr>\n",
       "  </thead>\n",
       "  <tbody>\n",
       "    <tr>\n",
       "      <th>0</th>\n",
       "      <td>10.0</td>\n",
       "      <td>1</td>\n",
       "    </tr>\n",
       "    <tr>\n",
       "      <th>1</th>\n",
       "      <td>20.0</td>\n",
       "      <td>2</td>\n",
       "    </tr>\n",
       "    <tr>\n",
       "      <th>2</th>\n",
       "      <td>30.0</td>\n",
       "      <td>6</td>\n",
       "    </tr>\n",
       "    <tr>\n",
       "      <th>3</th>\n",
       "      <td>40.0</td>\n",
       "      <td>1</td>\n",
       "    </tr>\n",
       "    <tr>\n",
       "      <th>4</th>\n",
       "      <td>50.0</td>\n",
       "      <td>45</td>\n",
       "    </tr>\n",
       "    <tr>\n",
       "      <th>5</th>\n",
       "      <td>60.0</td>\n",
       "      <td>5</td>\n",
       "    </tr>\n",
       "    <tr>\n",
       "      <th>6</th>\n",
       "      <td>70.0</td>\n",
       "      <td>1</td>\n",
       "    </tr>\n",
       "    <tr>\n",
       "      <th>7</th>\n",
       "      <td>80.0</td>\n",
       "      <td>34</td>\n",
       "    </tr>\n",
       "    <tr>\n",
       "      <th>8</th>\n",
       "      <td>90.0</td>\n",
       "      <td>3</td>\n",
       "    </tr>\n",
       "    <tr>\n",
       "      <th>9</th>\n",
       "      <td>100.0</td>\n",
       "      <td>6</td>\n",
       "    </tr>\n",
       "    <tr>\n",
       "      <th>10</th>\n",
       "      <td>110.0</td>\n",
       "      <td>2</td>\n",
       "    </tr>\n",
       "  </tbody>\n",
       "</table>\n",
       "</div>"
      ],
      "text/plain": [
       "    department_id  employee_count\n",
       "0            10.0               1\n",
       "1            20.0               2\n",
       "2            30.0               6\n",
       "3            40.0               1\n",
       "4            50.0              45\n",
       "5            60.0               5\n",
       "6            70.0               1\n",
       "7            80.0              34\n",
       "8            90.0               3\n",
       "9           100.0               6\n",
       "10          110.0               2"
      ]
     },
     "execution_count": 21,
     "metadata": {},
     "output_type": "execute_result"
    }
   ],
   "source": [
    "result_df = employees_df.groupby('department_id')['employee_id'].count().reset_index()\n",
    "result_df.columns = ['department_id', 'employee_count']\n",
    "result_df"
   ]
  },
  {
   "cell_type": "markdown",
   "metadata": {},
   "source": [
    "### Afficher le salaire moyen du département 60"
   ]
  },
  {
   "cell_type": "code",
   "execution_count": 22,
   "metadata": {},
   "outputs": [
    {
     "name": "stdout",
     "output_type": "stream",
     "text": [
      "6255.045999999999\n"
     ]
    }
   ],
   "source": [
    "average_salary_dept_60 = employees_df[employees_df['department_id'] == 60]['salary'].mean()\n",
    "print(average_salary_dept_60)\n"
   ]
  },
  {
   "cell_type": "markdown",
   "metadata": {},
   "source": [
    "## Graphiques \n",
    "- Tracer un histogramme des salaires moyens par département\n",
    "- Tracer un graphique en secteurs du nombre d'employés par job_id"
   ]
  },
  {
   "cell_type": "code",
   "execution_count": 24,
   "metadata": {},
   "outputs": [
    {
     "data": {
      "image/png": "[encoded data removed]",
      "text/plain": [
       "<Figure size 900x400 with 1 Axes>"
      ]
     },
     "metadata": {},
     "output_type": "display_data"
    }
   ],
   "source": [
    "merged_df = pd.merge(employees_df, departments_df[['department_id', 'department_name']], on='department_id')\n",
    "\n",
    "average_salary_per_dept = merged_df.groupby(['department_name'])['salary'].mean()\n",
    "\n",
    "# Plot histogram\n",
    "plt.figure(figsize=(9, 4))\n",
    "average_salary_per_dept.plot(kind='bar' ,label=' Salary')\n",
    "\n",
    "plt.xlabel('Department Name')\n",
    "plt.xticks(rotation=90, ha='right')\n",
    "\n",
    "plt.legend( loc='upper left')\n",
    "plt.show()\n"
   ]
  },
  {
   "cell_type": "code",
   "execution_count": 25,
   "metadata": {},
   "outputs": [
    {
     "data": {
      "image/png": "[encoded data removed]",
      "text/plain": [
       "<Figure size 1000x500 with 1 Axes>"
      ]
     },
     "metadata": {},
     "output_type": "display_data"
    }
   ],
   "source": [
    "merged_df = pd.merge(employees_df, departments_df[['department_id', 'department_name']], on='department_id')\n",
    "\n",
    "employee_count_per_job = merged_df['job_id'].value_counts()\n",
    "\n",
    "# Plot pie chart\n",
    "plt.figure(figsize=(10, 5))\n",
    "employee_count_per_job.plot(kind='pie')\n",
    "plt.ylabel('')\n",
    "plt.show()\n"
   ]
  }
 ],
 "metadata": {
  "kernelspec": {
   "display_name": "Python 3 (ipykernel)",
   "language": "python",
   "name": "python3"
  },
  "language_info": {
   "codemirror_mode": {
    "name": "ipython",
    "version": 3
   },
   "file_extension": ".py",
   "mimetype": "text/x-python",
   "name": "python",
   "nbconvert_exporter": "python",
   "pygments_lexer": "ipython3",
   "version": "3.11.5"
  },
  "toc": {
   "base_numbering": 1,
   "nav_menu": {},
   "number_sections": true,
   "sideBar": true,
   "skip_h1_title": false,
   "title_cell": "Table of Contents",
   "title_sidebar": "Contents",
   "toc_cell": false,
   "toc_position": {},
   "toc_section_display": true,
   "toc_window_display": false
  },
  "varInspector": {
   "cols": {
    "lenName": 16,
    "lenType": 16,
    "lenVar": 40
   },
   "kernels_config": {
    "python": {
     "delete_cmd_postfix": "",
     "delete_cmd_prefix": "del ",
     "library": "var_list.py",
     "varRefreshCmd": "print(var_dic_list())"
    },
    "r": {
     "delete_cmd_postfix": ") ",
     "delete_cmd_prefix": "rm(",
     "library": "var_list.r",
     "varRefreshCmd": "cat(var_dic_list()) "
    }
   },
   "types_to_exclude": [
    "module",
    "function",
    "builtin_function_or_method",
    "instance",
    "_Feature"
   ],
   "window_display": false
  }
 },
 "nbformat": 4,
 "nbformat_minor": 4
}
